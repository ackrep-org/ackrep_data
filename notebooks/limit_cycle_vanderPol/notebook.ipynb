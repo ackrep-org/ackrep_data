{
 "cells": [
  {
   "cell_type": "markdown",
   "id": "008acd3b-2b24-4c16-ac26-af2514c4b14a",
   "metadata": {},
   "source": [
    "# 1. Vorlesung Nichtlineare Regelungstechnik 1\n",
    "\n",
    "## Beispiel zum Thema Grenzzyklen (anfangswertunabhängige Dauerschwingungen)\n",
    "\n",
    "Das folgende System wird für verschiedene Anfangswerte simuliert, um zu zeigen, dass alle Trajektorien in einen Grenzzyklus einlaufen:\n",
    "\n",
    "\\begin{equation*}\n",
    "\\ddot x(t) - 2 \\frac{c}{m}(1 - x^2(t))\\dot x(t) + \\frac{k}{m} x(t) = 0\n",
    "\\end{equation*}\n",
    "\n",
    "mit $c, k, m > 0$. Es handelt sich um die van-der-Pol-Gleichung.\n",
    "\n",
    "**In den Zellen 2 und 3 können Sie Einstellungen vornehmen, die die Simulation beeinflussen (sofern dieses Notebook lokal oder auf mybinder läuft).**\n",
    "\n",
    "---\n",
    "\n",
    "Die aktuelle Fassung dieses Notebooks findet sich in folgendem Repositorium:\n",
    "\n",
    "https://gitlab.hrz.tu-chemnitz.de/rst/public/teaching/nl1-nbviewer-content\n",
    "\n",
    "Sie können zur Entwicklung/ Verbesserung über Merge Requests beitragen!\n",
    "\n",
    "---\n",
    "\n",
    "<p style=\"font-family:Courier New; font-size:10pt\">\n",
    "Copyright (c) 2019-2022 Max Pritzkoleit und Jan Winkler, TU Dresden, Germany\n",
    "</p>\n",
    "\n",
    "<p style=\"font-family:Courier New; font-size:10pt\">\n",
    "This program is free software: you can redistribute it and/or modify<br>\n",
    "it under the terms of the GNU General Public License as published by<br>\n",
    "the Free Software Foundation, either version 3 of the License, or<br>\n",
    "(at your option) any later version.\n",
    "</p>\n",
    "    \n",
    "<p style=\"font-family:Courier New; font-size:10pt\">\n",
    "This program is distributed in the hope that it will be useful,<br>\n",
    "but WITHOUT ANY WARRANTY; without even the implied warranty of<br>\n",
    "MERCHANTABILITY or FITNESS FOR A PARTICULAR PURPOSE.  See the<br>\n",
    "GNU General Public License for more details: <br>\n",
    "<a href=https://www.gnu.org/licenses/gpl-3.0.txt>https://www.gnu.org/licenses/gpl-3.0.txt</a>.\n",
    "</p>\n",
    "\n",
    "---"
   ]
  },
  {
   "cell_type": "markdown",
   "id": "06419eef-63f3-4cbc-894d-cc7163f1a508",
   "metadata": {},
   "source": [
    "# Vorbereitung der Simulation\n",
    "\n",
    "## Import der nötigen Module"
   ]
  },
  {
   "cell_type": "code",
   "execution_count": 1,
   "id": "49f6e84c-fbf5-4665-834f-e78cfe4b7a34",
   "metadata": {},
   "outputs": [],
   "source": [
    "import numpy as np\n",
    "import scipy.integrate as sci\n",
    "import matplotlib.pyplot as plt\n",
    "import matplotlib.animation as mpla\n",
    "import os\n",
    "from dataclasses import dataclass"
   ]
  },
  {
   "cell_type": "markdown",
   "id": "7bbf128e-7178-4def-ba8e-1a808b96c467",
   "metadata": {},
   "source": [
    "## Festlegung, ob Ergebnis animiert dargestellt werden soll\n",
    "\n",
    "Setzen Sie `DoAnmim` auf `True`, damit am Ende der Simulation eine Animation gestartet wird. Dies setzt voraus, dass die Bibliothek ffmpeg installiert ist. Sie müssen diese ggf. installieren und den Pfad in der nachfolgenden Zelle bekannt machen:\n",
    "\n",
    "- Windows: Download von https://ffmpeg.org/download.html"
   ]
  },
  {
   "cell_type": "code",
   "execution_count": 2,
   "id": "9a0728bb-cd64-49e5-8a39-0878a87a1c54",
   "metadata": {},
   "outputs": [],
   "source": [
    "DoAnimation = False\n",
    "\n",
    "# Unter Windows den Pfad bitte korrekt einstellen\n",
    "if os.name == 'nt':\n",
    "    plt.rcParams['animation.ffmpeg_path'] = 'C:\\\\Progs\\\\ffmpeg\\\\bin\\\\ffmpeg.exe'"
   ]
  },
  {
   "cell_type": "markdown",
   "id": "60ac3914-5ee2-4cf7-8e2e-f6ed2ae6c4f5",
   "metadata": {},
   "source": [
    "## Festlegung der Simulationsparameter"
   ]
  },
  {
   "cell_type": "code",
   "execution_count": 3,
   "id": "fee9ce5e-ea14-4acb-acc0-7b32b1d8eef6",
   "metadata": {},
   "outputs": [],
   "source": [
    "@dataclass\n",
    "class sim_para:\n",
    "    t0 = 0          # start time\n",
    "    tf = 50         # final time\n",
    "    dt = 0.04       # step-size"
   ]
  },
  {
   "cell_type": "markdown",
   "id": "23f2dc7e-35d9-4833-a4b6-7d2dea2dcee3",
   "metadata": {},
   "source": [
    "## Definition der rechten Seite der Differenzialgleichung\n",
    "\n",
    "Definition der rechten Seit der Dgl. Dazu wird die Dgl. zweiter Ordnung in zwei Dgls. \n",
    "erster Ordnung mittels der Transformation $x_1 := x$, $x_2 := \\dot x$ überführt."
   ]
  },
  {
   "cell_type": "code",
   "execution_count": 4,
   "id": "e817ddcc-7725-4105-bcc4-fb7e7450f8e6",
   "metadata": {},
   "outputs": [],
   "source": [
    "def ode(t, x):\n",
    "    m = 1\n",
    "    c = 0.1\n",
    "    K = 0.4\n",
    "\n",
    "    x1, x2 = x          # state vector\n",
    "\n",
    "    # dxdt = f(x):\n",
    "    dxdt = np.array([x2,\n",
    "                     -K/m*x1-2*c/m*(x1**2-1)*x2])\n",
    "\n",
    "    return dxdt"
   ]
  },
  {
   "cell_type": "markdown",
   "id": "b821fcef-fa7b-454b-b558-60e1e91ab06b",
   "metadata": {},
   "source": [
    "## Definition der Animierungsfunktion\n",
    "\n",
    "In dieser Funktion wird definiert, wie die Animation durchgeführt wird. Dazu wird ein `FuncAnimation`-Objekt der [matplotlib-Bibliothek](https://matplotlib.org/stable/api/_as_gen/matplotlib.animation.FuncAnimation.html) verwendet."
   ]
  },
  {
   "cell_type": "code",
   "execution_count": 5,
   "id": "ecce0d99-e6c3-4b41-a6e3-fbb6ac285244",
   "metadata": {},
   "outputs": [],
   "source": [
    "def sys_animation(sols, t):\n",
    "    \"\"\" Funktion zur Animation des Ergebnisses \"\"\"\n",
    "\n",
    "    %matplotlib widget\n",
    "    fig2, ax = plt.subplots()\n",
    "    ax.set_xlim(-3,3)\n",
    "    ax.set_ylim(-3,3)\n",
    "    ax.set_aspect('equal')\n",
    "    ax.set_xlabel(r'$y_1$')\n",
    "    ax.set_ylabel(r'$y_2$')\n",
    "    colors = [\"r\", \"b\", \"g\", \"y\"]\n",
    "\n",
    "    # Axis handles\n",
    "    lines = []\n",
    "    for i, xi in enumerate(sols):\n",
    "        lines.append(xi)\n",
    "        lines[i], = ax.plot([], [], colors[i])\n",
    "\n",
    "    def init():\n",
    "        \"\"\" Init-Funktion für Matplotlib Animation \"\"\"\n",
    "        for line in lines:\n",
    "            line.set_data([],[])\n",
    "        return lines\n",
    "\n",
    "    def animate(i):\n",
    "        \"\"\" Eigentliche Zeichenfunktion für Matplotlib Animation \"\"\"\n",
    "        k = i % len(t)\n",
    "        for j, line in enumerate(lines):\n",
    "            line.set_xdata(sols[j][0, 0:k])\n",
    "            line.set_ydata(sols[j][1, 0:k])\n",
    "        return lines\n",
    "\n",
    "    # Animator\n",
    "    anim = mpla.FuncAnimation(fig2, animate, init_func=init, frames=len(t) + 1,\n",
    "                              interval=5, repeat=True, blit=True)\n",
    "\n",
    "    plt.grid()\n",
    "    plt.show()\n",
    "\n",
    "    return anim"
   ]
  },
  {
   "cell_type": "markdown",
   "id": "b2dfc923-7745-4b81-8d09-82066ca0914f",
   "metadata": {},
   "source": [
    "## Definition des Zeitvektors und der Anfangsbedingungen\n",
    "\n",
    "Die Simulation erfolgt mit variabler Schrittweite, es werden jedoch an den in `tt` definierten Zeitpunkten Lösungsergebnisse angefordert, um einen schönen und glatten Verlauf der Kurven zu erhalten.\n",
    "\n",
    "Insgesamt werden vier Simulationen, startend bei `x0A` bis `x0D`, durchgeführt."
   ]
  },
  {
   "cell_type": "code",
   "execution_count": 6,
   "id": "5fd176b1-ece8-4367-a3b6-f9660c30b22b",
   "metadata": {},
   "outputs": [],
   "source": [
    "tt = np.arange(sim_para.t0, sim_para.tf + sim_para.dt, sim_para.dt)\n",
    "\n",
    "# Anfangszustand\n",
    "x0A = [0, .3]\n",
    "x0B = [1, 0]\n",
    "x0C = [1.5, 1.5]\n",
    "x0D = [-.5, .5]\n",
    "x0_vec = [x0A, x0B, x0C, x0D]"
   ]
  },
  {
   "cell_type": "markdown",
   "id": "c5ce3b46-b639-4690-b927-83b2775f5a05",
   "metadata": {},
   "source": [
    "## Durchführung der vier Simulationen"
   ]
  },
  {
   "cell_type": "code",
   "execution_count": 7,
   "id": "ba15a6d7-8130-4014-a5fe-4d0a5cd32512",
   "metadata": {},
   "outputs": [],
   "source": [
    "# Simulation\n",
    "outputs = []\n",
    "\n",
    "for x0 in x0_vec:\n",
    "    sol = sci.solve_ivp(ode, [sim_para.t0, sim_para.tf], x0, max_step=sim_para.dt)\n",
    "    outputs.append(sol.y)"
   ]
  },
  {
   "cell_type": "markdown",
   "id": "8c01132d-371e-49b1-ab5c-64d8141737d7",
   "metadata": {},
   "source": [
    "# Darstellung der Ergebnisse\n",
    "\n",
    "Animation bzw. statisch\n",
    "\n",
    "<div class=\"alert alert-block alert-info\">\n",
    "    <b>Tip:</b> Entfernen Sie das Kommentarzeichen `#` vor `%matplotlib widget`, um interaktive Plots zu erhalten (ggf. Menüpunkt Kernel - Restart Kernel and Run All Cells erforderlich).\n",
    "</div>"
   ]
  },
  {
   "cell_type": "code",
   "execution_count": null,
   "id": "78840b65-86b9-468f-a906-c5a03e8c0ac4",
   "metadata": {},
   "outputs": [],
   "source": [
    "if DoAnimation:\n",
    "    anim = sys_animation(outputs, tt)\n",
    "else:\n",
    "    %matplotlib widget\n",
    "    plt.rcParams['font.size'] = '16'\n",
    "    plt.figure(figsize=(10, 8))\n",
    "    for out in outputs:\n",
    "        plt.plot(out[0, :], out[1, :])\n",
    "        plt.plot(out[0, 0], out[1, 0], color='k', marker='x')  # Anfangswert\n",
    "    plt.xlabel('$x_1 = x$')\n",
    "    plt.ylabel('$x_2 = \\dot x$')\n",
    "    plt.grid()"
   ]
  }
 ],
 "metadata": {
  "kernelspec": {
   "display_name": "Python 3.8.13 ('jupyter')",
   "language": "python",
   "name": "python3"
  },
  "language_info": {
   "codemirror_mode": {
    "name": "ipython",
    "version": 3
   },
   "file_extension": ".py",
   "mimetype": "text/x-python",
   "name": "python",
   "nbconvert_exporter": "python",
   "pygments_lexer": "ipython3",
   "version": "3.8.13"
  },
  "vscode": {
   "interpreter": {
    "hash": "cea7d90e2d20864975bcb2d345ba0b475bbb564767f7474921add999faa239aa"
   }
  }
 },
 "nbformat": 4,
 "nbformat_minor": 5
}
